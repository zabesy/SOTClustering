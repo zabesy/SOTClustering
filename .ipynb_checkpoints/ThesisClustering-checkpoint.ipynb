{
 "cells": [
  {
   "cell_type": "code",
   "execution_count": 1,
   "metadata": {
    "executionInfo": {
     "elapsed": 131923,
     "status": "ok",
     "timestamp": 1633372462460,
     "user": {
      "displayName": "adam-nord@hotmail.com",
      "photoUrl": "https://lh3.googleusercontent.com/a/default-user=s64",
      "userId": "12454353131717006596"
     },
     "user_tz": -120
    },
    "id": "WikwhI2T2ozI"
   },
   "outputs": [],
   "source": [
    "import pandas as pd\n",
    "\n",
    "from functions import *"
   ]
  },
  {
   "cell_type": "markdown",
   "metadata": {
    "pycharm": {
     "name": "#%% md\n"
    }
   },
   "source": [
    "Load w2v model if it's already downloaded and saved. Otherwise download it and save it.\n",
    "Should be saved in current directory."
   ]
  },
  {
   "cell_type": "code",
   "execution_count": 2,
   "metadata": {
    "pycharm": {
     "name": "#%%\n"
    }
   },
   "outputs": [],
   "source": [
    "w2v = load_and_or_save_w2v_model(file_name=\"glove.42B.300d.txt.word2vec\", w2v_type=\"glove\", input_file=\"glove.42B.300d.txt\")"
   ]
  },
  {
   "cell_type": "markdown",
   "metadata": {
    "pycharm": {
     "name": "#%% md\n"
    }
   },
   "source": [
    "Short display of the data."
   ]
  },
  {
   "cell_type": "code",
   "execution_count": 3,
   "metadata": {
    "pycharm": {
     "name": "#%%\n"
    }
   },
   "outputs": [
    {
     "name": "stdout",
     "output_type": "stream",
     "text": [
      "330190\n"
     ]
    },
    {
     "data": {
      "text/html": [
       "<div>\n",
       "<style scoped>\n",
       "    .dataframe tbody tr th:only-of-type {\n",
       "        vertical-align: middle;\n",
       "    }\n",
       "\n",
       "    .dataframe tbody tr th {\n",
       "        vertical-align: top;\n",
       "    }\n",
       "\n",
       "    .dataframe thead th {\n",
       "        text-align: right;\n",
       "    }\n",
       "</style>\n",
       "<table border=\"1\" class=\"dataframe\">\n",
       "  <thead>\n",
       "    <tr style=\"text-align: right;\">\n",
       "      <th></th>\n",
       "      <th>school</th>\n",
       "      <th>author</th>\n",
       "      <th>title</th>\n",
       "      <th>tokenized_sentence</th>\n",
       "      <th>num_of_chars</th>\n",
       "      <th>num_of_words</th>\n",
       "      <th>string_sentence</th>\n",
       "    </tr>\n",
       "  </thead>\n",
       "  <tbody>\n",
       "    <tr>\n",
       "      <th>34324</th>\n",
       "      <td>analytic</td>\n",
       "      <td>Ludwig Wittgenstein</td>\n",
       "      <td>philosophical investigations</td>\n",
       "      <td>[paints, chairs, described, green, dark, red, ...</td>\n",
       "      <td>57</td>\n",
       "      <td>9</td>\n",
       "      <td>paints chairs described green dark red yellow ...</td>\n",
       "    </tr>\n",
       "    <tr>\n",
       "      <th>100327</th>\n",
       "      <td>phenomenology</td>\n",
       "      <td>Edmund Husserl</td>\n",
       "      <td>the crisis of european sciences and transcende...</td>\n",
       "      <td>[question, objects, perceptual, field, percept...</td>\n",
       "      <td>185</td>\n",
       "      <td>19</td>\n",
       "      <td>question objects perceptual field perceptually...</td>\n",
       "    </tr>\n",
       "  </tbody>\n",
       "</table>\n",
       "</div>"
      ],
      "text/plain": [
       "               school               author  \\\n",
       "34324        analytic  Ludwig Wittgenstein   \n",
       "100327  phenomenology       Edmund Husserl   \n",
       "\n",
       "                                                    title  \\\n",
       "34324                        philosophical investigations   \n",
       "100327  the crisis of european sciences and transcende...   \n",
       "\n",
       "                                       tokenized_sentence  num_of_chars  \\\n",
       "34324   [paints, chairs, described, green, dark, red, ...            57   \n",
       "100327  [question, objects, perceptual, field, percept...           185   \n",
       "\n",
       "        num_of_words                                    string_sentence  \n",
       "34324              9  paints chairs described green dark red yellow ...  \n",
       "100327            19  question objects perceptual field perceptually...  "
      ]
     },
     "execution_count": 3,
     "metadata": {},
     "output_type": "execute_result"
    }
   ],
   "source": [
    "DF = pd.read_csv(\"philosophy_data.csv\", converters={\"tokenized_sentence\": pd.eval})\n",
    "\n",
    "print(len(DF))\n",
    "DF.sample(2)\n"
   ]
  },
  {
   "cell_type": "markdown",
   "metadata": {
    "id": "l3dwcc3cD_pB"
   },
   "source": [
    "Extract the tokenized_sentence DF[\"tokenized_sentence\"] sentences and append them into a python list."
   ]
  },
  {
   "cell_type": "code",
   "execution_count": 4,
   "metadata": {
    "colab": {
     "base_uri": "https://localhost:8080/"
    },
    "executionInfo": {
     "elapsed": 17,
     "status": "ok",
     "timestamp": 1633372474348,
     "user": {
      "displayName": "adam-nord@hotmail.com",
      "photoUrl": "https://lh3.googleusercontent.com/a/default-user=s64",
      "userId": "12454353131717006596"
     },
     "user_tz": -120
    },
    "id": "vruYssI2Acx6",
    "outputId": "b86cf984-dd78-46de-8576-89d93026c30b"
   },
   "outputs": [],
   "source": [
    "sentences = []\n",
    "sentences = collect_sentences_from_tokenized(sentences, DF[\"tokenized_sentence\"])\n",
    "# sentences[:5]"
   ]
  },
  {
   "cell_type": "markdown",
   "metadata": {},
   "source": [
    "The sentence_vectorizer function summarizes each vectorized word in a sentence and divides the sum with the amount of words in the sentence.\n",
    "Doing this will allow us to be able to get whole sentences vectorized values instead of individual words.\n",
    "Using the function with our model (in this case w2v) sentences."
   ]
  },
  {
   "cell_type": "code",
   "execution_count": 5,
   "metadata": {
    "pycharm": {
     "name": "#%%\n"
    }
   },
   "outputs": [
    {
     "name": "stdout",
     "output_type": "stream",
     "text": [
      "0\n",
      "50000\n",
      "100000\n",
      "150000\n",
      "200000\n",
      "250000\n",
      "300000\n"
     ]
    },
    {
     "data": {
      "text/plain": [
       "(329723, 329723, 329723)"
      ]
     },
     "execution_count": 5,
     "metadata": {},
     "output_type": "execute_result"
    }
   ],
   "source": [
    "indexes_to_remove_from_df = []\n",
    "sentences_vectorized = []\n",
    "for index, sentence in enumerate(sentences):\n",
    "    temp_variable = sentence_vectorizer(sentence, w2v)\n",
    "    #Check if return variable is empty\n",
    "    if temp_variable is None:\n",
    "        indexes_to_remove_from_df.append(index)\n",
    "        continue\n",
    "    sentences_vectorized.append(temp_variable)\n",
    "    if index % 50000 == 0:\n",
    "        print(index)\n",
    "\n",
    "#Remove rows (found in list) from DF, and reset indexing.\n",
    "DF.drop(DF.index[indexes_to_remove_from_df], inplace=True)\n",
    "DF.reset_index(drop = True, inplace = True)\n",
    "sentences = collect_sentences_from_tokenized([], DF[\"tokenized_sentence\"])\n",
    "\n",
    "#Should be equal\n",
    "len(sentences), len(DF[\"tokenized_sentence\"]), len(sentences_vectorized)"
   ]
  },
  {
   "cell_type": "markdown",
   "metadata": {
    "pycharm": {
     "name": "#%% md\n"
    }
   },
   "source": [
    "Fetch the number of unique School of Thoughts."
   ]
  },
  {
   "cell_type": "code",
   "execution_count": 6,
   "metadata": {
    "pycharm": {
     "name": "#%%\n"
    }
   },
   "outputs": [
    {
     "name": "stdout",
     "output_type": "stream",
     "text": [
      "['rationalism', 'analytic', 'empiricism', 'phenomenology', 'capitalism', 'continental', 'plato', 'aristotle', 'german_idealism', 'communism']\n"
     ]
    }
   ],
   "source": [
    "schools = DF[\"school\"].unique().tolist()\n",
    "print(schools)\n",
    "num_clusters = len(schools)"
   ]
  },
  {
   "cell_type": "markdown",
   "metadata": {
    "pycharm": {
     "name": "#%% md\n"
    }
   },
   "source": [
    "Bar plot how many sentences are from each School of Thought.\n",
    "(Show the total amount of real assigned SOT on each text.)"
   ]
  },
  {
   "cell_type": "code",
   "execution_count": 7,
   "metadata": {
    "pycharm": {
     "name": "#%%\n"
    }
   },
   "outputs": [
    {
     "data": {
      "image/png": "[encoded data removed]",
      "text/plain": [
       "<Figure size 432x288 with 1 Axes>"
      ]
     },
     "metadata": {
      "needs_background": "light"
     },
     "output_type": "display_data"
    }
   ],
   "source": [
    "total_dict = dict.fromkeys(schools, 0)\n",
    "for school in DF[\"school\"]:\n",
    "    total_dict[school] += 1\n",
    "\n",
    "plt.bar(range(len(total_dict)), total_dict.values(), align='center')\n",
    "plt.xticks(range(len(total_dict)), total_dict.keys())\n",
    "plt.xticks(rotation=50)\n",
    "plt.xlabel(\"School of Thought\")\n",
    "plt.ylabel(\"Count\")\n",
    "plt.title(f\"Distribution of sentences per School of Thought\")\n",
    "plt.show()"
   ]
  },
  {
   "cell_type": "markdown",
   "metadata": {
    "pycharm": {
     "name": "#%% md\n"
    }
   },
   "source": [
    "Apply kmeans with num_clusters=amount of unique schools in the DF."
   ]
  },
  {
   "cell_type": "code",
   "execution_count": 8,
   "metadata": {
    "pycharm": {
     "name": "#%%\n"
    }
   },
   "outputs": [
    {
     "name": "stdout",
     "output_type": "stream",
     "text": [
      "139.73364782333374\n"
     ]
    }
   ],
   "source": [
    "start = time.time()\n",
    "\n",
    "kmeans, labels, centroids = apply_kmeans(num_clusters, sentences_vectorized)\n",
    "\n",
    "end = time.time()\n",
    "print(end - start)"
   ]
  },
  {
   "cell_type": "code",
   "execution_count": 9,
   "metadata": {
    "pycharm": {
     "name": "#%%\n"
    }
   },
   "outputs": [
    {
     "name": "stdout",
     "output_type": "stream",
     "text": [
      "0.010441629\n",
      "4055.9058883190155\n"
     ]
    }
   ],
   "source": [
    "start = time.time()\n",
    "\n",
    "silhouette_score = metrics.silhouette_score(sentences_vectorized, labels, metric='euclidean')\n",
    "print(silhouette_score)\n",
    "\n",
    "end = time.time()\n",
    "print(end - start)"
   ]
  },
  {
   "cell_type": "markdown",
   "metadata": {
    "pycharm": {
     "name": "#%% md\n"
    }
   },
   "source": [
    "Summarize the amount each cluster was assigned to a sentence."
   ]
  },
  {
   "cell_type": "code",
   "execution_count": 10,
   "metadata": {
    "pycharm": {
     "name": "#%%\n"
    }
   },
   "outputs": [
    {
     "data": {
      "image/png": "[encoded data removed]",
      "text/plain": [
       "<Figure size 432x288 with 1 Axes>"
      ]
     },
     "metadata": {
      "needs_background": "light"
     },
     "output_type": "display_data"
    }
   ],
   "source": [
    "label_dict = dict.fromkeys(list(set(labels)), 0)\n",
    "for cluster in labels:\n",
    "    label_dict[cluster] += 1\n",
    "\n",
    "plt.bar(range(len(label_dict)), label_dict.values(), align='center')\n",
    "plt.xticks(range(len(label_dict)), label_dict.keys())\n",
    "plt.xlabel(\"Cluster\")\n",
    "plt.ylabel(\"Count\")\n",
    "plt.title(f\"Clustered sentence\")\n",
    "plt.show()"
   ]
  },
  {
   "cell_type": "markdown",
   "metadata": {
    "pycharm": {
     "name": "#%% md\n"
    }
   },
   "source": [
    "Apply scatter plot on kmeans results using TSNE."
   ]
  },
  {
   "cell_type": "code",
   "execution_count": null,
   "metadata": {
    "pycharm": {
     "is_executing": true,
     "name": "#%%\n"
    }
   },
   "outputs": [],
   "source": [
    "start = time.time()\n",
    "\n",
    "model = TSNE(n_components=2, random_state=0)\n",
    "np.set_printoptions(suppress=True)\n",
    "\n",
    "unique_labels_list = list(set(labels))\n",
    "Y=model.fit_transform(sentences_vectorized)\n",
    "\n",
    "scatter = plt.scatter(Y[:,0], Y[:,1], c=labels, s=5, cmap='tab20')\n",
    "plt.legend(handles=scatter.legend_elements()[0], labels=unique_labels_list, prop={\"size\":5})\n",
    "\n",
    "#If we want to have centroids join the plot aswell.\n",
    "CENTER=model.fit_transform(centroids)\n",
    "plt.scatter(CENTER[:,0], CENTER[:,1], c='black', s=10)\n",
    "for j in range(len(centroids)):\n",
    "    plt.annotate(unique_labels_list[j], xy=(CENTER[j][0], CENTER[j][1]), xytext=(0,0), textcoords='offset points')\n",
    "\n",
    "plt.show()\n",
    "\n",
    "end = time.time()\n",
    "print(end - start)"
   ]
  },
  {
   "cell_type": "markdown",
   "metadata": {
    "pycharm": {
     "name": "#%% md\n"
    }
   },
   "source": [
    "Combine the kmeans clustering results with the labels.\n",
    "Put the kmeans result in a dictionary:"
   ]
  },
  {
   "cell_type": "code",
   "execution_count": null,
   "metadata": {
    "pycharm": {
     "is_executing": true,
     "name": "#%%\n"
    }
   },
   "outputs": [],
   "source": [
    "#How many times cluster n was assigned to specific SOT\n",
    "amount_SOT_got_clustered_dict = dict()\n",
    "for i, school in enumerate(DF[\"school\"]):\n",
    "    if amount_SOT_got_clustered_dict.get(school) is None:\n",
    "        amount_SOT_got_clustered_dict[school] = dict.fromkeys([i for i in range(len(schools))], 0)\n",
    "    amount_SOT_got_clustered_dict[school][labels[i]] += 1\n",
    "\n",
    "print(amount_SOT_got_clustered_dict)\n",
    "\n",
    "cluster_n_assigned_to_SOT = pd.DataFrame(amount_SOT_got_clustered_dict)\n",
    "cluster_n_assigned_to_SOT.plot(kind=\"bar\", stacked=True)\n",
    "plt.xlabel(\"Cluster\")\n",
    "plt.ylabel(\"Count\")\n",
    "plt.title(f\"Total cluster assignment of School of Thought\")\n",
    "plt.legend(prop={\"size\":5})\n",
    "plt.show()"
   ]
  },
  {
   "cell_type": "markdown",
   "metadata": {
    "pycharm": {
     "name": "#%% md\n"
    }
   },
   "source": [
    "Instead of having it on each other, split it up between each school, so how many got clustered for each school instead, with schools.unique() plots."
   ]
  },
  {
   "cell_type": "code",
   "execution_count": null,
   "metadata": {
    "pycharm": {
     "is_executing": true,
     "name": "#%%\n"
    }
   },
   "outputs": [],
   "source": [
    "for school, list_tuples in amount_SOT_got_clustered_dict.items():\n",
    "    plt.bar(range(len(list_tuples)), [value[1] for value in list_tuples.items()], align='center')\n",
    "    plt.xticks(range(len(list_tuples)), [value[0] for value in list_tuples.items()])\n",
    "    plt.xlabel(\"Cluster\")\n",
    "    plt.ylabel(\"Count\")\n",
    "    plt.title(f\"{school} cluster assignment\")\n",
    "    plt.show()"
   ]
  },
  {
   "cell_type": "markdown",
   "metadata": {
    "pycharm": {
     "name": "#%% md\n"
    }
   },
   "source": [
    "Make a list and convert all \"plato\" to 0 and \"aristotle\" to 1, etc.\n",
    "This can then be applied with the predicted labels with v_measure."
   ]
  },
  {
   "cell_type": "code",
   "execution_count": null,
   "metadata": {
    "pycharm": {
     "is_executing": true,
     "name": "#%%\n"
    }
   },
   "outputs": [],
   "source": [
    "original_labels = [schools.index(school) for school in DF[\"school\"]]"
   ]
  },
  {
   "cell_type": "markdown",
   "metadata": {
    "pycharm": {
     "name": "#%% md\n"
    }
   },
   "source": [
    "Apply v-measure."
   ]
  },
  {
   "cell_type": "code",
   "execution_count": null,
   "metadata": {
    "pycharm": {
     "is_executing": true,
     "name": "#%%\n"
    }
   },
   "outputs": [],
   "source": [
    "v_measure = v_measure_score((original_labels, labels))\n",
    "print(v_measure)"
   ]
  },
  {
   "cell_type": "code",
   "execution_count": null,
   "metadata": {
    "pycharm": {
     "is_executing": true,
     "name": "#%%\n"
    }
   },
   "outputs": [],
   "source": [
    "authors_dict = dict.fromkeys(list(DF[\"school\"].unique()), None)\n",
    "for index, school in enumerate(DF[\"school\"]):\n",
    "    if authors_dict.get(school) is None:\n",
    "        authors_dict[school] = dict()\n",
    "    if DF[\"author\"][index] not in [author for author in authors_dict[school]]:\n",
    "        authors_dict[school][DF[\"author\"][index]] = []\n",
    "    if DF[\"title\"][index] not in [title for title in authors_dict[school][DF[\"author\"][index]]]:\n",
    "        authors_dict[school][DF[\"author\"][index]].append(DF[\"title\"][index])\n",
    "print(authors_dict)\n"
   ]
  }
 ],
 "metadata": {
  "colab": {
   "authorship_tag": "ABX9TyPqtR0V7cu/9c8zZfHqStSr",
   "collapsed_sections": [],
   "mount_file_id": "1Y_Pi1BIYybISVb00nrSP3J2ZVOMl24bU",
   "name": "ThesisClustering.ipynb",
   "provenance": []
  },
  "kernelspec": {
   "display_name": "Python 3 (ipykernel)",
   "language": "python",
   "name": "python3"
  },
  "language_info": {
   "codemirror_mode": {
    "name": "ipython",
    "version": 3
   },
   "file_extension": ".py",
   "mimetype": "text/x-python",
   "name": "python",
   "nbconvert_exporter": "python",
   "pygments_lexer": "ipython3",
   "version": "3.8.10"
  }
 },
 "nbformat": 4,
 "nbformat_minor": 1
}
