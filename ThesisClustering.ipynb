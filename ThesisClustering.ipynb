{
 "nbformat": 4,
 "nbformat_minor": 0,
 "metadata": {
  "colab": {
   "name": "ThesisClustering.ipynb",
   "provenance": [],
   "collapsed_sections": [],
   "mount_file_id": "1Y_Pi1BIYybISVb00nrSP3J2ZVOMl24bU",
   "authorship_tag": "ABX9TyPqtR0V7cu/9c8zZfHqStSr"
  },
  "kernelspec": {
   "name": "python3",
   "language": "python",
   "display_name": "Python 3 (ipykernel)"
  },
  "language_info": {
   "name": "python"
  }
 },
 "cells": [
  {
   "cell_type": "code",
   "metadata": {
    "id": "WikwhI2T2ozI",
    "executionInfo": {
     "status": "ok",
     "timestamp": 1633372462460,
     "user_tz": -120,
     "elapsed": 131923,
     "user": {
      "displayName": "adam-nord@hotmail.com",
      "photoUrl": "https://lh3.googleusercontent.com/a/default-user=s64",
      "userId": "12454353131717006596"
     }
    }
   },
   "source": [
    "import pandas as pd\n",
    "\n",
    "from functions import *"
   ],
   "execution_count": 1,
   "outputs": []
  },
  {
   "cell_type": "markdown",
   "source": [
    "Apply the already trained Word2Vec model from Google News dataset that contains about 100 billion words.\n",
    "There's possibility to train our own model on our own data but the results might be worse."
   ],
   "metadata": {
    "collapsed": false
   }
  },
  {
   "cell_type": "markdown",
   "source": [
    "Load googles w2v model if it's already downloaded and saved. Otherwise download it and save it.\n",
    "Should be saved in default directory."
   ],
   "metadata": {
    "collapsed": false,
    "pycharm": {
     "name": "#%% md\n"
    }
   }
  },
  {
   "cell_type": "code",
   "execution_count": 2,
   "outputs": [],
   "source": [
    "w2v = load_and_or_save_googles_w2v_model(\"w2v-gensim-model\")\n",
    "# try_googles_w2v_model(w2v)"
   ],
   "metadata": {
    "collapsed": false,
    "pycharm": {
     "name": "#%%\n"
    }
   }
  },
  {
   "cell_type": "markdown",
   "source": [
    "Short display of the data."
   ],
   "metadata": {
    "collapsed": false,
    "pycharm": {
     "name": "#%% md\n"
    }
   }
  },
  {
   "cell_type": "code",
   "execution_count": 3,
   "outputs": [
    {
     "name": "stdout",
     "output_type": "stream",
     "text": [
      "['what', 'new', 'socrates', 'to', 'make', 'you', 'leave', 'your', 'usual', 'haunts', 'in', 'the', 'lyceum', 'and', 'spend', 'your', 'time', 'here', 'by', 'the', 'king', 'archon', 'court']\n",
      "360808\n"
     ]
    }
   ],
   "source": [
    "DF = pd.read_csv(\"philosophy_data.csv\")\n",
    "\n",
    "DF[\"NumOfWords\"]=DF[\"sentence_str\"].apply(lambda x: len(x.split(\" \")))\n",
    "# print(DF.head())\n",
    "print(DF['tokenized_txt'][0])\n",
    "print(len(DF))"
   ],
   "metadata": {
    "collapsed": false,
    "pycharm": {
     "name": "#%%\n"
    }
   }
  },
  {
   "cell_type": "markdown",
   "source": [
    "Cleanup some empty rows in tokenized column, and reset the indexing in the dataframe."
   ],
   "metadata": {
    "collapsed": false,
    "pycharm": {
     "name": "#%% md\n"
    }
   }
  },
  {
   "cell_type": "code",
   "execution_count": 4,
   "outputs": [
    {
     "name": "stdout",
     "output_type": "stream",
     "text": [
      "360796\n"
     ]
    }
   ],
   "source": [
    "#Remove rows in the dataframe that are empty\n",
    "remove_empty_rows(DF)\n",
    "#Reset index of dataframe when removing rows.\n",
    "DF.reset_index(drop = True, inplace = True)\n",
    "print(len(DF))"
   ],
   "metadata": {
    "collapsed": false,
    "pycharm": {
     "name": "#%%\n"
    }
   }
  },
  {
   "cell_type": "markdown",
   "metadata": {
    "id": "l3dwcc3cD_pB"
   },
   "source": [
    "Extract the tokenized_txt DF[\"tokenized_txt\"] sentences and append them into a python list."
   ]
  },
  {
   "cell_type": "code",
   "metadata": {
    "colab": {
     "base_uri": "https://localhost:8080/"
    },
    "id": "vruYssI2Acx6",
    "executionInfo": {
     "status": "ok",
     "timestamp": 1633372474348,
     "user_tz": -120,
     "elapsed": 17,
     "user": {
      "displayName": "adam-nord@hotmail.com",
      "photoUrl": "https://lh3.googleusercontent.com/a/default-user=s64",
      "userId": "12454353131717006596"
     }
    },
    "outputId": "b86cf984-dd78-46de-8576-89d93026c30b"
   },
   "source": [
    "sentences = []\n",
    "collect_sentences_from_tokenized_txt(sentences, DF[\"tokenized_txt\"])\n",
    "sentences[:5]"
   ],
   "execution_count": 5,
   "outputs": [
    {
     "data": {
      "text/plain": "[\"['what', 'new', 'socrates', 'to', 'make', 'you', 'leave', 'your', 'usual', 'haunts', 'in', 'the', 'lyceum', 'and', 'spend', 'your', 'time', 'here', 'by', 'the', 'king', 'archon', 'court']\",\n \"['surely', 'you', 'are', 'not', 'prosecuting', 'anyone', 'before', 'the', 'king', 'archon', 'as', 'am']\",\n \"['the', 'athenians', 'do', 'not', 'call', 'this', 'prosecution', 'but', 'an', 'indictment', 'euthyphro']\",\n \"['what', 'is', 'this', 'you', 'say']\",\n \"['someone', 'must', 'have', 'indicted', 'you', 'for', 'you', 'are', 'not', 'going', 'to', 'tell', 'me', 'that', 'you', 'have', 'indicted', 'someone', 'else']\"]"
     },
     "execution_count": 5,
     "metadata": {},
     "output_type": "execute_result"
    }
   ]
  },
  {
   "cell_type": "markdown",
   "source": [
    "The sentence_vectorizer function summarizes each vectorized word in a sentence and divides the sum with the amount of words in the sentence.\n",
    "Doing this will allow us to be able to get whole sentences vectorized values instead of individual words.\n",
    "Using the function with our model (in this case w2v) sentences."
   ],
   "metadata": {
    "collapsed": false
   }
  },
  {
   "cell_type": "code",
   "execution_count": 6,
   "outputs": [
    {
     "name": "stdout",
     "output_type": "stream",
     "text": [
      "0\n",
      "50000\n",
      "100000\n",
      "150000\n",
      "200000\n",
      "250000\n",
      "300000\n",
      "350000\n"
     ]
    }
   ],
   "source": [
    "sentences_vectorized = []\n",
    "for index, sentence in enumerate(sentences):\n",
    "    temp_variable = sentence_vectorizer(sentence, w2v)\n",
    "    #Check if np.array is empty\n",
    "    sentences_vectorized.append(temp_variable)\n",
    "    if index % 50000 == 0:\n",
    "        print(index)\n"
   ],
   "metadata": {
    "collapsed": false,
    "pycharm": {
     "name": "#%%\n"
    }
   }
  },
  {
   "cell_type": "markdown",
   "source": [
    "Fetch the number of unique School of Thoughts."
   ],
   "metadata": {
    "collapsed": false,
    "pycharm": {
     "name": "#%% md\n"
    }
   }
  },
  {
   "cell_type": "code",
   "source": [
    "schools = DF[\"school\"].unique().tolist()\n",
    "print(schools)\n",
    "num_clusters = len(schools)\n"
   ],
   "metadata": {
    "collapsed": false,
    "pycharm": {
     "name": "#%%\n"
    }
   },
   "execution_count": 7,
   "outputs": [
    {
     "name": "stdout",
     "output_type": "stream",
     "text": [
      "['plato', 'aristotle', 'empiricism', 'rationalism', 'analytic', 'continental', 'phenomenology', 'german_idealism', 'communism', 'capitalism', 'stoicism', 'nietzsche', 'feminism']\n"
     ]
    }
   ]
  },
  {
   "cell_type": "markdown",
   "source": [
    "Bar plot how many sentences are from each School of Thought.\n",
    "(Show the total amount of real assigned SOT on each text.)"
   ],
   "metadata": {
    "collapsed": false,
    "pycharm": {
     "name": "#%% md\n"
    }
   }
  },
  {
   "cell_type": "code",
   "execution_count": 8,
   "outputs": [
    {
     "data": {
      "text/plain": "<Figure size 432x288 with 1 Axes>",
      "image/png": "[encoded data removed]"
     },
     "metadata": {
      "needs_background": "light"
     },
     "output_type": "display_data"
    }
   ],
   "source": [
    "total_dict = dict.fromkeys(schools, 0)\n",
    "for school in DF['school']:\n",
    "    total_dict[school] += 1\n",
    "\n",
    "plot_total_dict = pd.Series(total_dict)\n",
    "plot_total_dict.plot(kind=\"bar\")\n",
    "plt.show()"
   ],
   "metadata": {
    "collapsed": false,
    "pycharm": {
     "name": "#%%\n"
    }
   }
  },
  {
   "cell_type": "markdown",
   "source": [
    "Apply kmeans with num_clusters=amount of unique schools in the DF."
   ],
   "metadata": {
    "collapsed": false,
    "pycharm": {
     "name": "#%% md\n"
    }
   }
  },
  {
   "cell_type": "code",
   "execution_count": 9,
   "outputs": [
    {
     "name": "stdout",
     "output_type": "stream",
     "text": [
      "264.1838753223419\n"
     ]
    }
   ],
   "source": [
    "start = time.time()\n",
    "\n",
    "kmeans, labels, centroids = apply_kmeans(num_clusters, sentences_vectorized)\n",
    "\n",
    "end = time.time()\n",
    "print(end - start)"
   ],
   "metadata": {
    "collapsed": false,
    "pycharm": {
     "name": "#%%\n"
    }
   }
  },
  {
   "cell_type": "code",
   "execution_count": 10,
   "outputs": [
    {
     "name": "stdout",
     "output_type": "stream",
     "text": [
      "0.026615586\n",
      "4576.487424135208\n"
     ]
    }
   ],
   "source": [
    "start = time.time()\n",
    "\n",
    "silhouette_score = metrics.silhouette_score(sentences_vectorized, labels, metric='euclidean')\n",
    "print(silhouette_score)\n",
    "\n",
    "end = time.time()\n",
    "print(end - start)"
   ],
   "metadata": {
    "collapsed": false,
    "pycharm": {
     "name": "#%%\n"
    }
   }
  },
  {
   "cell_type": "markdown",
   "source": [
    "Summarize the amount each cluster was assigned to a sentence."
   ],
   "metadata": {
    "collapsed": false,
    "pycharm": {
     "name": "#%% md\n"
    }
   }
  },
  {
   "cell_type": "code",
   "execution_count": 11,
   "outputs": [
    {
     "data": {
      "text/plain": "<Figure size 432x288 with 1 Axes>",
      "image/png": "[encoded data removed]"
     },
     "metadata": {
      "needs_background": "light"
     },
     "output_type": "display_data"
    }
   ],
   "source": [
    "label_dict = dict.fromkeys(list(set(labels)), 0)\n",
    "for cluster in labels:\n",
    "    label_dict[cluster] += 1\n",
    "\n",
    "plt.bar(range(len(label_dict)), label_dict.values())\n",
    "plt.show()"
   ],
   "metadata": {
    "collapsed": false,
    "pycharm": {
     "name": "#%%\n"
    }
   }
  },
  {
   "cell_type": "markdown",
   "source": [
    "Apply scatter plot on kmeans results using TSNE."
   ],
   "metadata": {
    "collapsed": false,
    "pycharm": {
     "name": "#%% md\n"
    }
   }
  },
  {
   "cell_type": "code",
   "execution_count": 12,
   "outputs": [
    {
     "data": {
      "text/plain": "<Figure size 432x288 with 1 Axes>",
      "image/png": "[encoded data removed]"
     },
     "metadata": {
      "needs_background": "light"
     },
     "output_type": "display_data"
    },
    {
     "name": "stdout",
     "output_type": "stream",
     "text": [
      "6378.271554946899\n"
     ]
    }
   ],
   "source": [
    "start = time.time()\n",
    "\n",
    "model = TSNE(n_components=2, random_state=0)\n",
    "np.set_printoptions(suppress=True)\n",
    "\n",
    "unique_labels_list = list(set(labels))\n",
    "Y=model.fit_transform(sentences_vectorized)\n",
    "\n",
    "scatter = plt.scatter(Y[:,0], Y[:,1], c=labels, s=5, cmap='tab20')\n",
    "plt.legend(handles=scatter.legend_elements()[0], labels=unique_labels_list, prop={\"size\":5})\n",
    "\n",
    "#If we want to have centroids join the plot aswell.\n",
    "# center=model.fit_transform(centroids)\n",
    "# plt.scatter(CENTER[:,0], CENTER[:,1], c='black', s=10)\n",
    "# for j in range(len(centroids)):\n",
    "#     plt.annotate(unique_labels_list[j], xy=(CENTER[j][0], CENTER[j][1]), xytext=(0,0), textcoords='offset points')\n",
    "\n",
    "plt.show()\n",
    "\n",
    "end = time.time()\n",
    "print(end - start)"
   ],
   "metadata": {
    "collapsed": false,
    "pycharm": {
     "name": "#%%\n"
    }
   }
  },
  {
   "cell_type": "markdown",
   "source": [
    "Combine the kmeans clustering results with the labels.\n",
    "Put the kmeans result in a dictionary:"
   ],
   "metadata": {
    "collapsed": false,
    "pycharm": {
     "name": "#%% md\n"
    }
   }
  },
  {
   "cell_type": "code",
   "execution_count": 13,
   "outputs": [
    {
     "name": "stdout",
     "output_type": "stream",
     "text": [
      "{'plato': {0: 2262, 1: 2999, 2: 1715, 3: 4527, 4: 2552, 5: 2233, 6: 3139, 7: 4388, 8: 5128, 9: 1941, 10: 2645, 11: 2726, 12: 2111}, 'aristotle': {0: 4317, 1: 4098, 2: 2209, 3: 5506, 4: 2609, 5: 5781, 6: 1229, 7: 7197, 8: 5194, 9: 1779, 10: 2206, 11: 3912, 12: 2738}, 'empiricism': {0: 1739, 1: 2360, 2: 741, 3: 2895, 4: 999, 5: 2290, 6: 565, 7: 2886, 8: 1902, 9: 406, 10: 1194, 11: 882, 12: 1072}, 'rationalism': {0: 1950, 1: 2390, 2: 971, 3: 2630, 4: 1200, 5: 2468, 6: 743, 7: 3224, 8: 2684, 9: 644, 10: 1445, 11: 1359, 12: 1241}, 'analytic': {0: 5086, 1: 6269, 2: 2938, 3: 5290, 4: 3859, 5: 5282, 6: 2530, 7: 5367, 8: 4802, 9: 2574, 10: 3546, 11: 3769, 12: 4106}, 'continental': {0: 2947, 1: 4423, 2: 1349, 3: 3337, 4: 2026, 5: 5283, 6: 736, 7: 4354, 8: 2921, 9: 991, 10: 1513, 11: 1754, 12: 2145}, 'phenomenology': {0: 2468, 1: 3763, 2: 1088, 3: 2721, 4: 2318, 5: 4380, 6: 742, 7: 2631, 8: 2219, 9: 1258, 10: 1347, 11: 1532, 12: 2106}, 'german_idealism': {0: 3302, 1: 5039, 2: 1084, 3: 3446, 4: 2909, 5: 8999, 6: 697, 7: 4018, 8: 3242, 9: 2136, 10: 1366, 11: 2831, 12: 3066}, 'communism': {0: 1117, 1: 3322, 2: 628, 3: 2457, 4: 1156, 5: 1275, 6: 913, 7: 2055, 8: 1713, 9: 394, 10: 1300, 11: 679, 12: 949}, 'capitalism': {0: 889, 1: 3522, 2: 559, 3: 2453, 4: 626, 5: 1121, 6: 599, 7: 3729, 8: 2175, 9: 149, 10: 1395, 11: 573, 12: 404}, 'stoicism': {0: 73, 1: 175, 2: 68, 3: 284, 4: 169, 5: 109, 6: 177, 7: 284, 8: 678, 9: 137, 10: 136, 11: 166, 12: 79}, 'nietzsche': {0: 723, 1: 1250, 2: 833, 3: 1429, 4: 804, 5: 842, 6: 990, 7: 1540, 8: 1770, 9: 613, 10: 1311, 11: 815, 12: 628}, 'feminism': {0: 2099, 1: 2021, 2: 915, 3: 2667, 4: 759, 5: 1604, 6: 747, 7: 2574, 8: 1362, 9: 321, 10: 1784, 11: 869, 12: 913}}\n"
     ]
    },
    {
     "data": {
      "text/plain": "<Figure size 432x288 with 1 Axes>",
      "image/png": "[encoded data removed]"
     },
     "metadata": {
      "needs_background": "light"
     },
     "output_type": "display_data"
    }
   ],
   "source": [
    "#Must find a way to assign each cluster to each school. This way is not optimal and doesn't result in a good assignment (but it's something).\n",
    "\n",
    "#How many times cluster n was assigned to specific SOT\n",
    "amount_SOT_got_clustered_dict = dict()\n",
    "for i, school in enumerate(DF[\"school\"]):\n",
    "    if amount_SOT_got_clustered_dict.get(school) is None:\n",
    "        amount_SOT_got_clustered_dict[school] = dict.fromkeys([i for i in range(len(schools))], 0)\n",
    "    amount_SOT_got_clustered_dict[school][labels[i]] += 1\n",
    "\n",
    "print(amount_SOT_got_clustered_dict)\n",
    "\n",
    "cluster_n_assigned_to_SOT = pd.DataFrame(amount_SOT_got_clustered_dict)\n",
    "cluster_n_assigned_to_SOT.plot(kind=\"bar\", stacked=True)\n",
    "plt.legend(prop={\"size\":5})\n",
    "plt.show()\n"
   ],
   "metadata": {
    "collapsed": false,
    "pycharm": {
     "name": "#%%\n"
    }
   }
  },
  {
   "cell_type": "markdown",
   "source": [
    "Make a list and convert all \"plato\" to 0 and \"aristotele\" to 1, etc.\n",
    "This can then be applied with the predicted labels.\n"
   ],
   "metadata": {
    "collapsed": false,
    "pycharm": {
     "name": "#%% md\n"
    }
   }
  },
  {
   "cell_type": "code",
   "execution_count": 14,
   "outputs": [],
   "source": [
    "original_labels = [schools.index(school) for school in DF[\"school\"]]"
   ],
   "metadata": {
    "collapsed": false,
    "pycharm": {
     "name": "#%%\n"
    }
   }
  },
  {
   "cell_type": "markdown",
   "source": [
    "Apply v-measure. Print out dataframe."
   ],
   "metadata": {
    "collapsed": false,
    "pycharm": {
     "name": "#%% md\n"
    }
   }
  },
  {
   "cell_type": "code",
   "execution_count": 17,
   "outputs": [
    {
     "name": "stdout",
     "output_type": "stream",
     "text": [
      "0.015090540073222388\n"
     ]
    },
    {
     "data": {
      "text/plain": "        Original  Predicted\n0              0          3\n1              0          3\n2              0          8\n3              0          9\n4              0          3\n...          ...        ...\n360791        12          1\n360792        12          5\n360793        12          3\n360794        12          1\n360795        12          4\n\n[360796 rows x 2 columns]",
      "text/html": "<div>\n<style scoped>\n    .dataframe tbody tr th:only-of-type {\n        vertical-align: middle;\n    }\n\n    .dataframe tbody tr th {\n        vertical-align: top;\n    }\n\n    .dataframe thead th {\n        text-align: right;\n    }\n</style>\n<table border=\"1\" class=\"dataframe\">\n  <thead>\n    <tr style=\"text-align: right;\">\n      <th></th>\n      <th>Original</th>\n      <th>Predicted</th>\n    </tr>\n  </thead>\n  <tbody>\n    <tr>\n      <th>0</th>\n      <td>0</td>\n      <td>3</td>\n    </tr>\n    <tr>\n      <th>1</th>\n      <td>0</td>\n      <td>3</td>\n    </tr>\n    <tr>\n      <th>2</th>\n      <td>0</td>\n      <td>8</td>\n    </tr>\n    <tr>\n      <th>3</th>\n      <td>0</td>\n      <td>9</td>\n    </tr>\n    <tr>\n      <th>4</th>\n      <td>0</td>\n      <td>3</td>\n    </tr>\n    <tr>\n      <th>...</th>\n      <td>...</td>\n      <td>...</td>\n    </tr>\n    <tr>\n      <th>360791</th>\n      <td>12</td>\n      <td>1</td>\n    </tr>\n    <tr>\n      <th>360792</th>\n      <td>12</td>\n      <td>5</td>\n    </tr>\n    <tr>\n      <th>360793</th>\n      <td>12</td>\n      <td>3</td>\n    </tr>\n    <tr>\n      <th>360794</th>\n      <td>12</td>\n      <td>1</td>\n    </tr>\n    <tr>\n      <th>360795</th>\n      <td>12</td>\n      <td>4</td>\n    </tr>\n  </tbody>\n</table>\n<p>360796 rows × 2 columns</p>\n</div>"
     },
     "execution_count": 17,
     "metadata": {},
     "output_type": "execute_result"
    }
   ],
   "source": [
    "print(v_measure_score(original_labels, labels))\n",
    "pd.DataFrame(list(zip(original_labels, labels)), columns=[\"Original\", \"Predicted\"])"
   ],
   "metadata": {
    "collapsed": false,
    "pycharm": {
     "name": "#%%\n"
    }
   }
  }
 ]
}