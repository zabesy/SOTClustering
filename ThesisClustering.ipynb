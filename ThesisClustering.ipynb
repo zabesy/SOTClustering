{
 "nbformat": 4,
 "nbformat_minor": 0,
 "metadata": {
  "colab": {
   "name": "ThesisClustering.ipynb",
   "provenance": [],
   "collapsed_sections": [],
   "mount_file_id": "1Y_Pi1BIYybISVb00nrSP3J2ZVOMl24bU",
   "authorship_tag": "ABX9TyPqtR0V7cu/9c8zZfHqStSr"
  },
  "kernelspec": {
   "name": "python3",
   "language": "python",
   "display_name": "Python 3 (ipykernel)"
  },
  "language_info": {
   "name": "python"
  }
 },
 "cells": [
  {
   "cell_type": "code",
   "metadata": {
    "id": "WikwhI2T2ozI",
    "executionInfo": {
     "status": "ok",
     "timestamp": 1633372462460,
     "user_tz": -120,
     "elapsed": 131923,
     "user": {
      "displayName": "adam-nord@hotmail.com",
      "photoUrl": "https://lh3.googleusercontent.com/a/default-user=s64",
      "userId": "12454353131717006596"
     }
    }
   },
   "source": [
    "import numpy as np\n",
    "import pandas as pd\n",
    "import matplotlib.image as mpimg\n",
    "import matplotlib.pyplot as plt\n",
    "import scipy.stats\n",
    "from PIL import Image\n",
    "import time\n",
    "import math\n",
    "from matplotlib.offsetbox import AnnotationBbox, OffsetImage\n",
    "import ipywidgets as widgets\n",
    "import plotly.graph_objects as go\n",
    "from ipywidgets import Layout\n",
    "\n",
    "from sklearn.manifold import TSNE\n",
    "\n",
    "from gensim.models import Word2Vec\n",
    "from gensim.models import KeyedVectors\n",
    "\n",
    "import matplotlib.pyplot as plt\n",
    "from nltk.cluster import KMeansClusterer\n",
    "import nltk\n",
    "import sklearn\n",
    "from sklearn import cluster\n",
    "from sklearn import metrics\n",
    "import gensim.downloader as api\n",
    "\n",
    "from scipy.stats import mode\n",
    "from sklearn.metrics import accuracy_score\n",
    "\n",
    "#Ignore the \"FutureWarning\" on TSNE.\n",
    "import warnings\n",
    "warnings.filterwarnings('ignore')\n",
    "warnings.filterwarnings(\n",
    "    action='ignore',\n",
    "    category=FutureWarning,\n",
    "    module=r'.*_t_sne'\n",
    ")\n"
   ],
   "execution_count": 1,
   "outputs": []
  },
  {
   "cell_type": "markdown",
   "source": [
    "Load and save googles w2v model."
   ],
   "metadata": {
    "collapsed": false,
    "pycharm": {
     "name": "#%% md\n"
    }
   }
  },
  {
   "cell_type": "code",
   "execution_count": 2,
   "outputs": [],
   "source": [
    "#Uncomment to fetch the model\n",
    "#loaded_w2v = api.load('word2vec-google-news-300')\n",
    "model_file_name = \"this-gensim-model\"\n",
    "\n",
    "#Uncomment to save the model in current directory\n",
    "#loaded_w2v.save(model_file_name)"
   ],
   "metadata": {
    "collapsed": false,
    "pycharm": {
     "name": "#%%\n"
    }
   }
  },
  {
   "cell_type": "markdown",
   "source": [
    "Load the model from the saved file name"
   ],
   "metadata": {
    "collapsed": false,
    "pycharm": {
     "name": "#%% md\n"
    }
   }
  },
  {
   "cell_type": "code",
   "execution_count": 3,
   "outputs": [],
   "source": [
    "w2v = KeyedVectors.load(model_file_name)"
   ],
   "metadata": {
    "collapsed": false,
    "pycharm": {
     "name": "#%%\n"
    }
   }
  },
  {
   "cell_type": "markdown",
   "source": [
    "Generate temporary file and store the model there."
   ],
   "metadata": {
    "collapsed": false,
    "pycharm": {
     "name": "#%% md\n"
    }
   }
  },
  {
   "cell_type": "code",
   "execution_count": 4,
   "outputs": [],
   "source": [
    "#import tempfile\n",
    "\n",
    "#with tempfile.NamedTemporaryFile(prefix='gensim-model-', delete=False) as tmp:\n",
    "#    temporary_filepath = tmp.name\n",
    "#    loaded_w2v.save(temporary_filepath)\n",
    "    #\n",
    "    # The model is now safely stored in the filepath.\n",
    "    # You can copy it to other machines, share it with others, etc.\n",
    "    #\n",
    "    # To load a saved model:\n",
    "    #\n",
    "#    w2v = KeyedVectors.load(temporary_filepath)"
   ],
   "metadata": {
    "collapsed": false,
    "pycharm": {
     "name": "#%%\n"
    }
   }
  },
  {
   "cell_type": "markdown",
   "source": [
    "Save the model."
   ],
   "metadata": {
    "collapsed": false,
    "pycharm": {
     "name": "#%% md\n"
    }
   }
  },
  {
   "cell_type": "code",
   "execution_count": 5,
   "outputs": [
    {
     "name": "stdout",
     "output_type": "stream",
     "text": [
      "['what', 'new', 'socrates', 'to', 'make', 'you', 'leave', 'your', 'usual', 'haunts', 'in', 'the', 'lyceum', 'and', 'spend', 'your', 'time', 'here', 'by', 'the', 'king', 'archon', 'court']\n",
      "360808\n",
      "[66294, 66295, 66296, 66297, 150420, 150422, 152817, 154482, 154483, 158010, 179659, 285758]\n",
      "360796\n"
     ]
    }
   ],
   "source": [
    "DF = pd.read_csv(\"philosophy_data.csv\")\n",
    "\n",
    "DF[\"NumOfWords\"]=DF[\"sentence_str\"].apply(lambda x: len(x.split(\" \")))\n",
    "DF.head()\n",
    "print(DF['tokenized_txt'][0])\n",
    "print(len(DF))\n",
    "\n",
    "#Remove rows in the dataframe that are empty\n",
    "empty_sentences = []\n",
    "for index, sentence in enumerate(DF['tokenized_txt']):\n",
    "    if len(sentence.strip(\"[]\")) == 0:\n",
    "        empty_sentences.append(index)\n",
    "print(empty_sentences)\n",
    "DF.drop(DF.index[empty_sentences], inplace=True)\n",
    "print(len(DF))\n",
    "#Reset index of dataframe when removing rows.\n",
    "DF.reset_index(drop = True, inplace = True)"
   ],
   "metadata": {
    "collapsed": false,
    "pycharm": {
     "name": "#%%\n"
    }
   }
  },
  {
   "cell_type": "markdown",
   "metadata": {
    "id": "l3dwcc3cD_pB"
   },
   "source": [
    "Extract the tokenized_txt DF[\"tokenized_txt\"] sentences and append them into a python list."
   ]
  },
  {
   "cell_type": "code",
   "metadata": {
    "id": "6Y41arE5DDMQ",
    "executionInfo": {
     "status": "ok",
     "timestamp": 1633372474347,
     "user_tz": -120,
     "elapsed": 18,
     "user": {
      "displayName": "adam-nord@hotmail.com",
      "photoUrl": "https://lh3.googleusercontent.com/a/default-user=s64",
      "userId": "12454353131717006596"
     }
    }
   },
   "source": [
    "def collect_sentences_from_tokenized_txt(sentences, tokenized_txt):\n",
    "  #Ship those sentences that are empty\n",
    "  for i, sentence in enumerate(tokenized_txt):\n",
    "    sentences.append(sentence)\n",
    "  return sentences"
   ],
   "execution_count": 6,
   "outputs": []
  },
  {
   "cell_type": "code",
   "metadata": {
    "colab": {
     "base_uri": "https://localhost:8080/"
    },
    "id": "vruYssI2Acx6",
    "executionInfo": {
     "status": "ok",
     "timestamp": 1633372474348,
     "user_tz": -120,
     "elapsed": 17,
     "user": {
      "displayName": "adam-nord@hotmail.com",
      "photoUrl": "https://lh3.googleusercontent.com/a/default-user=s64",
      "userId": "12454353131717006596"
     }
    },
    "outputId": "b86cf984-dd78-46de-8576-89d93026c30b"
   },
   "source": [
    "sentences = []\n",
    "collect_sentences_from_tokenized_txt(sentences, DF[\"tokenized_txt\"])\n",
    "sentences[:5]"
   ],
   "execution_count": 7,
   "outputs": [
    {
     "data": {
      "text/plain": "[\"['what', 'new', 'socrates', 'to', 'make', 'you', 'leave', 'your', 'usual', 'haunts', 'in', 'the', 'lyceum', 'and', 'spend', 'your', 'time', 'here', 'by', 'the', 'king', 'archon', 'court']\",\n \"['surely', 'you', 'are', 'not', 'prosecuting', 'anyone', 'before', 'the', 'king', 'archon', 'as', 'am']\",\n \"['the', 'athenians', 'do', 'not', 'call', 'this', 'prosecution', 'but', 'an', 'indictment', 'euthyphro']\",\n \"['what', 'is', 'this', 'you', 'say']\",\n \"['someone', 'must', 'have', 'indicted', 'you', 'for', 'you', 'are', 'not', 'going', 'to', 'tell', 'me', 'that', 'you', 'have', 'indicted', 'someone', 'else']\"]"
     },
     "execution_count": 7,
     "metadata": {},
     "output_type": "execute_result"
    }
   ]
  },
  {
   "cell_type": "markdown",
   "metadata": {
    "id": "q9BKM6lsFaq4"
   },
   "source": [
    "Apply and train our own Word2Vec to sentences (Doc2Vec also exists in gensim.models)"
   ]
  },
  {
   "cell_type": "code",
   "metadata": {
    "id": "r2I7iVzBElA0",
    "executionInfo": {
     "status": "ok",
     "timestamp": 1633372474349,
     "user_tz": -120,
     "elapsed": 13,
     "user": {
      "displayName": "adam-nord@hotmail.com",
      "photoUrl": "https://lh3.googleusercontent.com/a/default-user=s64",
      "userId": "12454353131717006596"
     }
    }
   },
   "source": [
    "#model = Word2Vec(sentences = sentences, min_count = 1)"
   ],
   "execution_count": 8,
   "outputs": []
  },
  {
   "cell_type": "markdown",
   "metadata": {
    "id": "3BD89RNMxxEC"
   },
   "source": [
    "Apply the already trained Word2Vec model from Google News dataset that contains about 100 billion words.\n",
    "There's possibility to train our own model on our own data but the results might be worse."
   ]
  },
  {
   "cell_type": "code",
   "metadata": {
    "id": "ijW_CZi3hEAw",
    "colab": {
     "base_uri": "https://localhost:8080/"
    },
    "outputId": "d1381fc3-db68-407a-acee-185622ea0f5c"
   },
   "source": [
    "\n",
    "# for index, word in enumerate(w2v.index_to_key):\n",
    "#   if index == 10:\n",
    "#     break\n",
    "#   print(\"word #{}/{} is {}\".format(index, len(w2v.index_to_key), word))\n",
    "\n",
    "# pairs = [\n",
    "#     ('car', 'minivan'),   # a minivan is a kind of car\n",
    "#     ('car', 'bicycle'),   # still a wheeled vehicle\n",
    "#     ('car', 'airplane'),  # ok, no wheels, but still a vehicle\n",
    "#     ('car', 'cereal'),    # ... and so on\n",
    "#     ('car', 'communism'),\n",
    "# ]\n",
    "# for w1, w2 in pairs:\n",
    "#     print('%r\\t%r\\t%.2f' % (w1, w2, w2v.similarity(w1, w2)))\n",
    "\n",
    "# print(w2v.most_similar(positive=['car', 'minivan'], topn=5))\n",
    "# print(w2v.doesnt_match(['fire', 'water', 'land', 'sea', 'air', 'car']))"
   ],
   "execution_count": 9,
   "outputs": []
  },
  {
   "cell_type": "markdown",
   "metadata": {
    "id": "p96w1y5Jyy-s",
    "pycharm": {
     "name": "#%% md\n"
    }
   },
   "source": [
    "This function summarizes each vectorized word in a sentence and divides the sum with the amount of words in the sentence.\n",
    "Doing this will allow us to be able to get whole sentences vectorized values instead of individual words."
   ]
  },
  {
   "cell_type": "code",
   "source": [
    "def sentence_vectorizer(sentence, model):\n",
    "    words = []\n",
    "    num_words = 0\n",
    "    for index, w in enumerate(sentence):\n",
    "        try:\n",
    "            if num_words == 0:\n",
    "                words = model[w]\n",
    "            else:\n",
    "                words = np.add(words, model[w])\n",
    "            num_words += 1\n",
    "        except:\n",
    "            pass\n",
    "    return np.asarray(words) / num_words"
   ],
   "metadata": {
    "collapsed": false,
    "pycharm": {
     "name": "#%%\n"
    }
   },
   "execution_count": 10,
   "outputs": []
  },
  {
   "cell_type": "markdown",
   "source": [
    "Use the above function with our model (in this case w2v) sentences."
   ],
   "metadata": {
    "collapsed": false,
    "pycharm": {
     "name": "#%% md\n"
    }
   }
  },
  {
   "cell_type": "code",
   "execution_count": 11,
   "outputs": [
    {
     "name": "stdout",
     "output_type": "stream",
     "text": [
      "50000\n",
      "100000\n",
      "150000\n",
      "200000\n",
      "250000\n",
      "300000\n",
      "350000\n"
     ]
    }
   ],
   "source": [
    "features = []\n",
    "num = 0\n",
    "for index, sentence in enumerate(sentences):\n",
    "    temp_variable = sentence_vectorizer(sentence, w2v)\n",
    "    #Check if np.array is empty\n",
    "    features.append(temp_variable)\n",
    "    num += 1\n",
    "    if num % 50000 == 0:\n",
    "        print(num)"
   ],
   "metadata": {
    "collapsed": false,
    "pycharm": {
     "name": "#%%\n"
    }
   }
  },
  {
   "cell_type": "code",
   "execution_count": 12,
   "outputs": [
    {
     "name": "stdout",
     "output_type": "stream",
     "text": [
      "['what', 'new', 'socrates', 'to', 'make', 'you', 'leave', 'your', 'usual', 'haunts', 'in', 'the', 'lyceum', 'and', 'spend', 'your', 'time', 'here', 'by', 'the', 'king', 'archon', 'court']\n",
      "360796\n",
      "360796\n"
     ]
    }
   ],
   "source": [
    "print(sentences[0])\n",
    "temp_list = [word for word in sentence[0]]\n",
    "#Indexes of sentences that was emtpy inside of sentences\n",
    "\n",
    "#They should be equal\n",
    "print(len(features))\n",
    "print(len(sentences))\n",
    "#print(features[0])"
   ],
   "metadata": {
    "collapsed": false,
    "pycharm": {
     "name": "#%%\n"
    }
   }
  },
  {
   "cell_type": "code",
   "execution_count": 13,
   "outputs": [
    {
     "name": "stdout",
     "output_type": "stream",
     "text": [
      "['plato', 'aristotle', 'empiricism', 'rationalism', 'analytic', 'continental', 'phenomenology', 'german_idealism', 'communism', 'capitalism', 'stoicism', 'nietzsche', 'feminism']\n"
     ]
    }
   ],
   "source": [
    "schools = DF[\"school\"].unique().tolist()\n",
    "print(schools)\n",
    "NUM_CLUSTERS = len(schools)"
   ],
   "metadata": {
    "collapsed": false,
    "pycharm": {
     "name": "#%%\n"
    }
   }
  },
  {
   "cell_type": "markdown",
   "source": [
    "This takes to long. A possible solution to this is to use t-SNE to reduce the dimension from 300 to 50 or smth."
   ],
   "metadata": {
    "collapsed": false,
    "pycharm": {
     "name": "#%% md\n"
    }
   }
  },
  {
   "cell_type": "code",
   "execution_count": 14,
   "outputs": [],
   "source": [
    "# start = time.time()\n",
    "#\n",
    "# kClusterer = KMeansClusterer(NUM_CLUSTERS, distance=nltk.cluster.util.cosine_distance, repeats=25)\n",
    "# assigned_clusters = kClusterer.cluster(features[:500], assign_clusters=True)\n",
    "#"
   ],
   "metadata": {
    "collapsed": false,
    "pycharm": {
     "name": "#%%\n"
    }
   }
  },
  {
   "cell_type": "code",
   "execution_count": 15,
   "outputs": [
    {
     "name": "stdout",
     "output_type": "stream",
     "text": [
      "194.9036238193512\n"
     ]
    }
   ],
   "source": [
    "start = time.time()\n",
    "\n",
    "kmeans = cluster.KMeans(n_clusters=NUM_CLUSTERS, random_state=0)\n",
    "kmeans.fit(features)\n",
    "labels = kmeans.predict(features)\n",
    "centroids = kmeans.cluster_centers_\n",
    "\n",
    "end = time.time()\n",
    "print(end - start)"
   ],
   "metadata": {
    "collapsed": false,
    "pycharm": {
     "name": "#%%\n"
    }
   }
  },
  {
   "cell_type": "code",
   "execution_count": 16,
   "outputs": [
    {
     "name": "stdout",
     "output_type": "stream",
     "text": [
      "0.013899244\n"
     ]
    }
   ],
   "source": [
    "silhouette_score = metrics.silhouette_score(features[:10000], labels[:10000], metric='euclidean')\n",
    "print(silhouette_score)"
   ],
   "metadata": {
    "collapsed": false,
    "pycharm": {
     "name": "#%%\n"
    }
   }
  },
  {
   "cell_type": "code",
   "execution_count": 17,
   "outputs": [
    {
     "name": "stdout",
     "output_type": "stream",
     "text": [
      "[ 8  8 10 ...  8  4  1]\n",
      "[ 8  8 10 ...  8  4  1]\n",
      "[ 8  8 10  7  8]\n",
      "{0: 41925, 1: 22122, 2: 29177, 3: 20791, 4: 41861, 5: 21889, 6: 44194, 7: 13179, 8: 39447, 9: 15159, 10: 35784, 11: 13806, 12: 21462}\n"
     ]
    }
   ],
   "source": [
    "#Compare the labels indexes with features/sentences\n",
    "# print(kmeans.cluster_centers_.shape)\n",
    "# print(labels)\n",
    "# print(kmeans.labels_)\n",
    "centroids = kmeans.cluster_centers_\n",
    "# print(centroids)\n",
    "print(kmeans.labels_)\n",
    "print(labels)\n",
    "print(labels[:5])\n",
    "\n",
    "label_dict = dict.fromkeys(list(set(labels)), 0)\n",
    "for cluster in labels:\n",
    "    label_dict[cluster] += 1\n",
    "\n",
    "print(label_dict)\n"
   ],
   "metadata": {
    "collapsed": false,
    "pycharm": {
     "name": "#%%\n"
    }
   }
  },
  {
   "cell_type": "code",
   "execution_count": 18,
   "outputs": [
    {
     "data": {
      "text/plain": "<Figure size 432x288 with 1 Axes>",
      "image/png": "[encoded data removed]"
     },
     "metadata": {
      "needs_background": "light"
     },
     "output_type": "display_data"
    },
    {
     "name": "stdout",
     "output_type": "stream",
     "text": [
      "7089.645367860794\n"
     ]
    }
   ],
   "source": [
    "#Trying the scatter plot:\n",
    "start = time.time()\n",
    "model = TSNE(n_components=2, random_state=0)\n",
    "np.set_printoptions(suppress=True)\n",
    "\n",
    "unique_labels_list = list(set(labels))\n",
    "Y=model.fit_transform(features[:100000])\n",
    "CENTER=model.fit_transform(centroids)\n",
    "\n",
    "scatter = plt.scatter(Y[:, 0], Y[:, 1], c=labels[:100000], s=5, cmap='tab20')\n",
    "plt.legend(handles=scatter.legend_elements()[0], labels=unique_labels_list, prop={\"size\":5})\n",
    "\n",
    "plt.scatter(CENTER[:,0], CENTER[:,1], c='black', s=10)\n",
    "\n",
    "for j in range(len(centroids)):\n",
    "    plt.annotate(unique_labels_list[j], xy=(CENTER[j][0], CENTER[j][1]), xytext=(0,0), textcoords='offset points')\n",
    "\n",
    "plt.show()\n",
    "\n",
    "end = time.time()\n",
    "print(end - start)"
   ],
   "metadata": {
    "collapsed": false,
    "pycharm": {
     "name": "#%%\n"
    }
   }
  },
  {
   "cell_type": "markdown",
   "source": [
    "Combine the kmeans clustering results with the labels."
   ],
   "metadata": {
    "collapsed": false,
    "pycharm": {
     "name": "#%% md\n"
    }
   }
  },
  {
   "cell_type": "markdown",
   "source": [
    "Put the kmeans result in a dictionary:"
   ],
   "metadata": {
    "collapsed": false,
    "pycharm": {
     "name": "#%% md\n"
    }
   }
  },
  {
   "cell_type": "code",
   "execution_count": 19,
   "outputs": [
    {
     "data": {
      "text/plain": "0.11602401356999523"
     },
     "execution_count": 19,
     "metadata": {},
     "output_type": "execute_result"
    }
   ],
   "source": [
    "# from sklearn.metrics import accuracy_score\n",
    "# accuracy_score(DF[\"school\"],[schools[index] for index in labels])\n",
    "\n",
    "#Must find a way to assign each cluster to each school. This way is not optimal and doesn't result in a good assignment (but it's something).\n",
    "\n",
    "realVsPredLabels = np.zeros_like(labels)\n",
    "for i, school in enumerate(schools):\n",
    "    mask = (labels == i)\n",
    "    realVsPredLabels[mask] = mode([schools.index(val) for val in DF[\"school\"][mask]])[0]\n",
    "\n",
    "accuracy_score(labels, realVsPredLabels)\n"
   ],
   "metadata": {
    "collapsed": false,
    "pycharm": {
     "name": "#%%\n"
    }
   }
  },
  {
   "cell_type": "code",
   "execution_count": 20,
   "outputs": [
    {
     "name": "stdout",
     "output_type": "stream",
     "text": [
      "360796\n",
      "360796\n",
      "360796\n"
     ]
    },
    {
     "data": {
      "text/plain": "  school Predicted School of Thought\n0  plato                   aristotle\n1  plato                   aristotle\n2  plato                   aristotle\n3  plato                    analytic\n4  plato                   aristotle",
      "text/html": "<div>\n<style scoped>\n    .dataframe tbody tr th:only-of-type {\n        vertical-align: middle;\n    }\n\n    .dataframe tbody tr th {\n        vertical-align: top;\n    }\n\n    .dataframe thead th {\n        text-align: right;\n    }\n</style>\n<table border=\"1\" class=\"dataframe\">\n  <thead>\n    <tr style=\"text-align: right;\">\n      <th></th>\n      <th>school</th>\n      <th>Predicted School of Thought</th>\n    </tr>\n  </thead>\n  <tbody>\n    <tr>\n      <th>0</th>\n      <td>plato</td>\n      <td>aristotle</td>\n    </tr>\n    <tr>\n      <th>1</th>\n      <td>plato</td>\n      <td>aristotle</td>\n    </tr>\n    <tr>\n      <th>2</th>\n      <td>plato</td>\n      <td>aristotle</td>\n    </tr>\n    <tr>\n      <th>3</th>\n      <td>plato</td>\n      <td>analytic</td>\n    </tr>\n    <tr>\n      <th>4</th>\n      <td>plato</td>\n      <td>aristotle</td>\n    </tr>\n  </tbody>\n</table>\n</div>"
     },
     "execution_count": 20,
     "metadata": {},
     "output_type": "execute_result"
    }
   ],
   "source": [
    "pred = pd.DataFrame([schools[index] for index in realVsPredLabels])\n",
    "pred.columns = ['Predicted School of Thought']\n",
    "\n",
    "print(len(DF[\"school\"]))\n",
    "print(len(pred))\n",
    "prediction = pd.concat([DF[\"school\"], pred], axis = 1)\n",
    "print(len(prediction))\n",
    "prediction.head()"
   ],
   "metadata": {
    "collapsed": false,
    "pycharm": {
     "name": "#%%\n"
    }
   }
  },
  {
   "cell_type": "code",
   "execution_count": 21,
   "outputs": [],
   "source": [
    "temp_indexes = []\n",
    "for index, val in enumerate(prediction['school']):\n",
    "    if val not in schools:\n",
    "        temp_indexes.append(index)\n",
    "\n",
    "test_concat = {'School': DF['school'],\n",
    "               'Predicted School': pred}\n",
    "test_df = pd.DataFrame(test_concat, columns=['School', 'Predited School'])\n",
    "# print(test_df['School'][temp_indexes])"
   ],
   "metadata": {
    "collapsed": false,
    "pycharm": {
     "name": "#%%\n"
    }
   }
  },
  {
   "cell_type": "code",
   "source": [
    "# Create dict with values:\n",
    "# SOT = school of thought\n",
    "# result_dict = {1st SOT: {1st predicted SOT: amount predicted 1st SOT,\n",
    "#                          2nd predicted SOT: amount predicted 2nd SOT\n",
    "#                          ... },\n",
    "#                2nd SOT: {....},\n",
    "#                ....\n",
    "#                }"
   ],
   "metadata": {
    "collapsed": false,
    "pycharm": {
     "name": "#%%\n"
    }
   },
   "execution_count": 22,
   "outputs": []
  },
  {
   "cell_type": "code",
   "execution_count": 23,
   "outputs": [
    {
     "name": "stdout",
     "output_type": "stream",
     "text": [
      "{'plato': {'plato': 3146, 'aristotle': 16794, 'empiricism': 0, 'rationalism': 0, 'analytic': 16156, 'continental': 0, 'phenomenology': 0, 'german_idealism': 2270, 'communism': 0, 'capitalism': 0, 'stoicism': 0, 'nietzsche': 0, 'feminism': 0}, 'aristotle': {'plato': 1223, 'aristotle': 21729, 'empiricism': 0, 'rationalism': 0, 'analytic': 19971, 'continental': 0, 'phenomenology': 0, 'german_idealism': 5852, 'communism': 0, 'capitalism': 0, 'stoicism': 0, 'nietzsche': 0, 'feminism': 0}, 'empiricism': {'plato': 566, 'aristotle': 8562, 'empiricism': 0, 'rationalism': 0, 'analytic': 8505, 'continental': 0, 'phenomenology': 0, 'german_idealism': 2298, 'communism': 0, 'capitalism': 0, 'stoicism': 0, 'nietzsche': 0, 'feminism': 0}, 'rationalism': {'plato': 742, 'aristotle': 9888, 'empiricism': 0, 'rationalism': 0, 'analytic': 9834, 'continental': 0, 'phenomenology': 0, 'german_idealism': 2485, 'communism': 0, 'capitalism': 0, 'stoicism': 0, 'nietzsche': 0, 'feminism': 0}, 'analytic': {'plato': 2520, 'aristotle': 19229, 'empiricism': 0, 'rationalism': 0, 'analytic': 28331, 'continental': 0, 'phenomenology': 0, 'german_idealism': 5338, 'communism': 0, 'capitalism': 0, 'stoicism': 0, 'nietzsche': 0, 'feminism': 0}, 'continental': {'plato': 745, 'aristotle': 12310, 'empiricism': 0, 'rationalism': 0, 'analytic': 15440, 'continental': 0, 'phenomenology': 0, 'german_idealism': 5284, 'communism': 0, 'capitalism': 0, 'stoicism': 0, 'nietzsche': 0, 'feminism': 0}, 'phenomenology': {'plato': 753, 'aristotle': 9034, 'empiricism': 0, 'rationalism': 0, 'analytic': 14407, 'continental': 0, 'phenomenology': 0, 'german_idealism': 4379, 'communism': 0, 'capitalism': 0, 'stoicism': 0, 'nietzsche': 0, 'feminism': 0}, 'german_idealism': {'plato': 706, 'aristotle': 13461, 'empiricism': 0, 'rationalism': 0, 'analytic': 18929, 'continental': 0, 'phenomenology': 0, 'german_idealism': 9039, 'communism': 0, 'capitalism': 0, 'stoicism': 0, 'nietzsche': 0, 'feminism': 0}, 'communism': {'plato': 907, 'aristotle': 6900, 'empiricism': 0, 'rationalism': 0, 'analytic': 8873, 'continental': 0, 'phenomenology': 0, 'german_idealism': 1278, 'communism': 0, 'capitalism': 0, 'stoicism': 0, 'nietzsche': 0, 'feminism': 0}, 'capitalism': {'plato': 593, 'aristotle': 8966, 'empiricism': 0, 'rationalism': 0, 'analytic': 7510, 'continental': 0, 'phenomenology': 0, 'german_idealism': 1125, 'communism': 0, 'capitalism': 0, 'stoicism': 0, 'nietzsche': 0, 'feminism': 0}, 'stoicism': {'plato': 184, 'aristotle': 1413, 'empiricism': 0, 'rationalism': 0, 'analytic': 827, 'continental': 0, 'phenomenology': 0, 'german_idealism': 111, 'communism': 0, 'capitalism': 0, 'stoicism': 0, 'nietzsche': 0, 'feminism': 0}, 'nietzsche': {'plato': 986, 'aristotle': 5565, 'empiricism': 0, 'rationalism': 0, 'analytic': 6152, 'continental': 0, 'phenomenology': 0, 'german_idealism': 845, 'communism': 0, 'capitalism': 0, 'stoicism': 0, 'nietzsche': 0, 'feminism': 0}, 'feminism': {'plato': 735, 'aristotle': 7463, 'empiricism': 0, 'rationalism': 0, 'analytic': 8816, 'continental': 0, 'phenomenology': 0, 'german_idealism': 1621, 'communism': 0, 'capitalism': 0, 'stoicism': 0, 'nietzsche': 0, 'feminism': 0}}\n"
     ]
    }
   ],
   "source": [
    "result_dict = dict()\n",
    "for index, school in enumerate(prediction['school']):\n",
    "    if result_dict.get(school) is None:\n",
    "        result_dict[school] = dict.fromkeys(schools, 0)\n",
    "    predSchool = prediction['Predicted School of Thought'][index]\n",
    "    if result_dict[school].get(predSchool) is None:\n",
    "        result_dict[school][predSchool] = 1\n",
    "    else:\n",
    "        result_dict[school][predSchool] += 1\n",
    "\n",
    "print(result_dict)\n",
    "#print(prediction.iloc[indices, :])"
   ],
   "metadata": {
    "collapsed": false,
    "pycharm": {
     "name": "#%%\n"
    }
   }
  },
  {
   "cell_type": "markdown",
   "source": [
    "X axis are the real SOT:s and Y axis are the amount of assigned SOT:s our algorithm assigned to the real SOT."
   ],
   "metadata": {
    "collapsed": false,
    "pycharm": {
     "name": "#%% md\n"
    }
   }
  },
  {
   "cell_type": "code",
   "execution_count": 24,
   "outputs": [
    {
     "data": {
      "text/plain": "<Figure size 432x288 with 1 Axes>",
      "image/png": "[encoded data removed]"
     },
     "metadata": {
      "needs_background": "light"
     },
     "output_type": "display_data"
    }
   ],
   "source": [
    "combined_bar = pd.DataFrame(result_dict)\n",
    "# print(combined_bar)\n",
    "# combined_bar.plot.bar()\n",
    "# print(result_dict)\n",
    "combined_bar.plot(kind=\"bar\", stacked=True)\n",
    "plt.legend(prop={\"size\":7})\n",
    "plt.show()"
   ],
   "metadata": {
    "collapsed": false,
    "pycharm": {
     "name": "#%%\n"
    }
   }
  },
  {
   "cell_type": "code",
   "execution_count": 25,
   "outputs": [
    {
     "data": {
      "text/plain": "<Figure size 432x288 with 1 Axes>",
      "image/png": "[encoded data removed]"
     },
     "metadata": {
      "needs_background": "light"
     },
     "output_type": "display_data"
    }
   ],
   "source": [
    "# Show the total amount of real assigned SOT on each text. Compare this correct plot with the above.\n",
    "total_dict = dict.fromkeys(schools, 0)\n",
    "for school in prediction['school']:\n",
    "    total_dict[school] += 1\n",
    "\n",
    "plot_total_dict = pd.Series(total_dict)\n",
    "# print(plot_total_dict)\n",
    "plot_total_dict.plot(kind=\"bar\")\n",
    "plt.show()"
   ],
   "metadata": {
    "collapsed": false,
    "pycharm": {
     "name": "#%%\n"
    }
   }
  },
  {
   "cell_type": "markdown",
   "source": [
    "Scatter plot."
   ],
   "metadata": {
    "collapsed": false,
    "pycharm": {
     "name": "#%% md\n"
    }
   }
  },
  {
   "cell_type": "code",
   "execution_count": 25,
   "outputs": [],
   "source": [],
   "metadata": {
    "collapsed": false,
    "pycharm": {
     "name": "#%%\n"
    }
   }
  }
 ]
}